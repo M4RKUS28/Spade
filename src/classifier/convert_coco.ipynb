{
 "cells": [
  {
   "metadata": {},
   "cell_type": "markdown",
   "source": [
    "# Description:\n",
    "\n",
    "This file creates a custom pytorch dataset (Class can be found in dataset.py) <br>\n",
    "and saves it to a file named <em>playing_card_dataset.pt</em>. <br>\n",
    "<strong>Please specify the paths to the images and labels below.</strong><br>\n",
    "<br>\n",
    "If you want a different card order (e.g. label 2 corresponds to 2 of Clubs) go to mapping.py"
   ],
   "id": "f7d9596c018ed0f0"
  },
  {
   "cell_type": "code",
   "id": "initial_id",
   "metadata": {
    "collapsed": true,
    "ExecuteTime": {
     "end_time": "2024-10-30T17:31:55.725365Z",
     "start_time": "2024-10-30T17:31:46.585888Z"
    }
   },
   "source": [
    "import torch\n",
    "import matplotlib.pyplot as plt\n",
    "from dataset import PlayingCardDataset\n",
    "from mapping import cards"
   ],
   "execution_count": 1,
   "outputs": []
  },
  {
   "metadata": {
    "ExecuteTime": {
     "end_time": "2024-10-30T17:31:58.454211Z",
     "start_time": "2024-10-30T17:31:58.449767Z"
    }
   },
   "cell_type": "code",
   "source": [
    "PATH_TO_IMAGES = 'data/playing_card_dataset/Images/Images'\n",
    "PATH_TO_LABELS = 'data/playing_card_dataset/annotation.json'"
   ],
   "id": "86b54b0de9424376",
   "execution_count": 2,
   "outputs": []
  },
  {
   "metadata": {},
   "cell_type": "markdown",
   "source": "# Create Dataset and retrieve sample",
   "id": "b69732800f69ac85"
  },
  {
   "metadata": {
    "ExecuteTime": {
     "end_time": "2024-10-30T17:37:05.516422Z",
     "start_time": "2024-10-30T17:37:01.454533Z"
    }
   },
   "cell_type": "code",
   "source": [
    "data = PlayingCardDataset(PATH_TO_IMAGES, PATH_TO_LABELS)\n",
    "image, label = next(iter(data))\n",
    "plt.imshow(image.permute(1,2,0))\n",
    "label_int = int(label.nonzero())\n",
    "label_str = cards[label_int+1]\n",
    "print(\"\\n---------------------\\n\")\n",
    "print(label_str)"
   ],
   "id": "d19c61f24f87237f",
   "execution_count": 4,
   "outputs": []
  },
  {
   "metadata": {},
   "cell_type": "markdown",
   "source": "# Save to file",
   "id": "43c6979ca3a22241"
  },
  {
   "metadata": {
    "ExecuteTime": {
     "end_time": "2024-10-30T17:37:10.269298Z",
     "start_time": "2024-10-30T17:37:10.064034Z"
    }
   },
   "cell_type": "code",
   "source": "torch.save(data, \"playing_card_dataset.pt\")",
   "id": "afc80f5030bd32f8",
   "execution_count": 5,
   "outputs": []
  },
  {
   "metadata": {},
   "cell_type": "markdown",
   "source": "",
   "id": "4ac1d1ba078952a4"
  }
 ],
 "metadata": {
  "kernelspec": {
   "display_name": "Python 3",
   "language": "python",
   "name": "python3"
  },
  "language_info": {
   "codemirror_mode": {
    "name": "ipython",
    "version": 2
   },
   "file_extension": ".py",
   "mimetype": "text/x-python",
   "name": "python",
   "nbconvert_exporter": "python",
   "pygments_lexer": "ipython2",
   "version": "2.7.6"
  }
 },
 "nbformat": 4,
 "nbformat_minor": 5
}
